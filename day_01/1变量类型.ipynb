{
 "cells": [
  {
   "cell_type": "markdown",
   "metadata": {},
   "source": [
    "# 主要内容\n",
    "- 坚持写blog\n",
    "- jupyter notebook的用法\n",
    "- 变量"
   ]
  },
  {
   "cell_type": "code",
   "execution_count": 2,
   "metadata": {},
   "outputs": [
    {
     "name": "stdout",
     "output_type": "stream",
     "text": [
      "Hello World\n"
     ]
    }
   ],
   "source": [
    "print(\"Hello World\")"
   ]
  },
  {
   "cell_type": "code",
   "execution_count": 4,
   "metadata": {},
   "outputs": [],
   "source": [
    "#声明的三种方式\n",
    "s1 = \"william\"\n",
    "s2 = s1 = \"I love william\"\n",
    "s1,s2,s3 = \"I love you\",\"I love her\",\"I love him\""
   ]
  },
  {
   "cell_type": "markdown",
   "metadata": {},
   "source": [
    "# 变量类型\n",
    "- 严格意义上讲，python只有一个数据类型\n",
    "- 标准数据类型六种\n",
    "    - 数字number\n",
    "    - 字符串型 str\n",
    "    - 列表 list\n",
    "    - 元组 tuple\n",
    "    - 字典 dict\n",
    "    - 集合 set\n",
    "\n"
   ]
  },
  {
   "cell_type": "markdown",
   "metadata": {},
   "source": [
    "# 数字类型 number\n",
    "- python中的数字没有大小限制\n",
    "# 常见数字分类\n",
    "- 整数\n",
    "    - 没有小数部分\n",
    "    - 正数 负数 0\n",
    "    - 二进制\n",
    "        - 只有0，1\n",
    "        - 以0b开头的01串\n",
    "        - 列如：\n",
    "            - 0b110\n",
    "            - 0b11110\n",
    "    - 八进制\n",
    "        - 以0o开头的0到7之间的数字串\n",
    "        - 列如\n",
    "            - 0o71\n",
    "    - 十六进制\n",
    "        - 以0x组成的0-9，a-f构成的串\n",
    "        \n",
    "- 浮点数\n",
    "    - 就是通俗意义上的小数\n",
    "    - 常见的案例\n",
    "        - 3.14159\n",
    "        - 3.\n",
    "        - 0.4\n",
    "        - .4\n",
    "- 科学计数法\n",
    "    - 定义跟数学上一致\n",
    "    - 写法就是e后面跟整数用来表示10的指数次幂\n",
    "- 复数complex\n",
    "    - 与数学定义一致\n",
    "    - 负数的虚部用j/J表示\n",
    "    - 例如\n",
    "        - 5+4j\n",
    "        - 4j\n",
    "        - （4j)\n",
    "    \n"
   ]
  },
  {
   "cell_type": "code",
   "execution_count": 7,
   "metadata": {},
   "outputs": [
    {
     "name": "stdout",
     "output_type": "stream",
     "text": [
      "6\n",
      "30\n"
     ]
    }
   ],
   "source": [
    "# 二进制定义\n",
    "a1 = 0b110\n",
    "print(a1)\n",
    "\n",
    "a2 = 0b11110\n",
    "print(a2)"
   ]
  },
  {
   "cell_type": "code",
   "execution_count": 8,
   "metadata": {},
   "outputs": [
    {
     "name": "stdout",
     "output_type": "stream",
     "text": [
      "57\n"
     ]
    }
   ],
   "source": [
    "# 八进制\n",
    "a3 = 0o71\n",
    "print(a3)"
   ]
  },
  {
   "cell_type": "code",
   "execution_count": 10,
   "metadata": {},
   "outputs": [
    {
     "name": "stdout",
     "output_type": "stream",
     "text": [
      "65535\n",
      "21746\n"
     ]
    }
   ],
   "source": [
    "# 十六进制\n",
    "a4 = 0xffff\n",
    "print(a4)\n",
    "\n",
    "a5 = 0x54f2\n",
    "print(a5)"
   ]
  },
  {
   "cell_type": "code",
   "execution_count": 11,
   "metadata": {},
   "outputs": [
    {
     "name": "stdout",
     "output_type": "stream",
     "text": [
      "314.0\n"
     ]
    }
   ],
   "source": [
    "# 科学计数法 \n",
    "a6 = 3.14e2\n",
    "print(a6)"
   ]
  },
  {
   "cell_type": "code",
   "execution_count": 12,
   "metadata": {},
   "outputs": [
    {
     "name": "stdout",
     "output_type": "stream",
     "text": [
      "4j\n"
     ]
    }
   ],
   "source": [
    "# 复数\n",
    "a7 = 4j\n",
    "print(a7)"
   ]
  },
  {
   "cell_type": "markdown",
   "metadata": {},
   "source": [
    "# 布尔值\n",
    "- 布尔值 就是用来表示真假的值\n",
    "- 只有两个值 True/False（首字母大写 ）\n",
    "- 在Python 中，布尔值可以当数字使用\n",
    "    - 布尔值如果当数字使用，True = 1，False = 0\n",
    "    - 如果数字用来当布尔值使用，0 = False，1 = True"
   ]
  },
  {
   "cell_type": "code",
   "execution_count": 1,
   "metadata": {},
   "outputs": [
    {
     "name": "stdout",
     "output_type": "stream",
     "text": [
      "19\n",
      "18\n"
     ]
    }
   ],
   "source": [
    "age = 18 + True\n",
    "print(age)\n",
    "\n",
    "age = 18 + False\n",
    "print(age)"
   ]
  },
  {
   "cell_type": "markdown",
   "metadata": {},
   "source": [
    "# 字符串\n",
    "- 表达文字信息的内容，比如“我爱我家”\n",
    "- 形式上是引号引起来的一段内容\n",
    "- 引号包括\n",
    "    - 单引号\n",
    "    - 双引号\n",
    "    - 三引号\n",
    "- 单引号 双引号含义一致"
   ]
  },
  {
   "cell_type": "code",
   "execution_count": 2,
   "metadata": {},
   "outputs": [
    {
     "name": "stdout",
     "output_type": "stream",
     "text": [
      "I love myfamily\n",
      "I love CHina\n",
      "\n",
      "我\n",
      "爱\n",
      "中国\n",
      "\n"
     ]
    }
   ],
   "source": [
    "# 字符串案例\n",
    "# 单双引号只能表示一行信息\n",
    "love = \"I love myfamily\"\n",
    "print(love)\n",
    "\n",
    "love2 = 'I love CHina'\n",
    "print(love2)\n",
    "\n",
    "# 三引号可以表示多行\n",
    "\n",
    "love3 = \"\"\"\n",
    "我\n",
    "爱\n",
    "中国\n",
    "\"\"\"\n",
    "print(love3)"
   ]
  },
  {
   "cell_type": "markdown",
   "metadata": {},
   "source": [
    "# None类型\n",
    "- 表示没有，通常用来占位\n",
    "- 比如返回一个空\n"
   ]
  }
 ],
 "metadata": {
  "kernelspec": {
   "display_name": "Python 3",
   "language": "python",
   "name": "python3"
  },
  "language_info": {
   "codemirror_mode": {
    "name": "ipython",
    "version": 3
   },
   "file_extension": ".py",
   "mimetype": "text/x-python",
   "name": "python",
   "nbconvert_exporter": "python",
   "pygments_lexer": "ipython3",
   "version": "3.7.0"
  }
 },
 "nbformat": 4,
 "nbformat_minor": 2
}
