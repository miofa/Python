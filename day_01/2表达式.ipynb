{
 "cells": [
  {
   "cell_type": "markdown",
   "metadata": {},
   "source": [
    "# 表达式\n",
    "- 由一个或者几个数字或者变量或者运算符合成的一行代码\n",
    "- 通常返回一个结果\n",
    "# 运算符\n",
    "- 由一个以上的值经过一系列的运算得到新值的过程就叫运算\n",
    "- 用来操作运算的符号叫做运算符\n",
    "- 运算符分类\n",
    "    - 算术运算符\n",
    "    - 比较(关系)运算符\n",
    "    - 赋值运算符\n",
    "    - 逻辑运算符\n",
    "    - 位运算\n",
    "    - 成员运算符\n",
    "    - 身份运算符"
   ]
  },
  {
   "cell_type": "code",
   "execution_count": 2,
   "metadata": {},
   "outputs": [
    {
     "name": "stdout",
     "output_type": "stream",
     "text": [
      "3\n"
     ]
    }
   ],
   "source": [
    "# 表达式案例\n",
    "a = 1 + 2\n",
    "print(a)"
   ]
  },
  {
   "cell_type": "markdown",
   "metadata": {},
   "source": [
    "## 算术运算符\n",
    "- 用来进行算术运算的符号\n",
    "- 通常用来表示加减乘除\n",
    "- Python没有自增自减"
   ]
  },
  {
   "cell_type": "code",
   "execution_count": 8,
   "metadata": {},
   "outputs": [
    {
     "name": "stdout",
     "output_type": "stream",
     "text": [
      "11\n",
      "5\n",
      "18\n",
      "4.5\n",
      "4\n",
      "1\n",
      "-3\n",
      "81\n"
     ]
    }
   ],
   "source": [
    "# 算术运算符案例\n",
    "# 加减乘除跟数学意义基本一致\n",
    "a = 9 + 2\n",
    "print(a)\n",
    "b = 8 - 3\n",
    "print(b)\n",
    "c = 2 * 9\n",
    "print(c)\n",
    "\n",
    "#python除法分为普通除法，地板除，取余\n",
    "a = 9 / 2\n",
    "print(a)\n",
    "\n",
    "#地板除(取整除)\n",
    "a = 9 // 2\n",
    "print(a)\n",
    "\n",
    "#取余\n",
    "a = 9 % 2\n",
    "print(a)\n",
    "\n",
    "b = 9 % -4\n",
    "print(b)\n",
    "\n",
    "# 两个乘号就表示指数\n",
    "c = 9 ** 2\n",
    "print(c)"
   ]
  },
  {
   "cell_type": "markdown",
   "metadata": {},
   "source": [
    "# 比较运算符\n",
    "- 对两个内容进行比较的运算符\n",
    "- 结果一定是布尔值，即True/False\n"
   ]
  },
  {
   "cell_type": "code",
   "execution_count": 13,
   "metadata": {},
   "outputs": [
    {
     "name": "stdout",
     "output_type": "stream",
     "text": [
      "False\n",
      "True\n",
      "False\n",
      "False\n"
     ]
    }
   ],
   "source": [
    "# 等于 ==\n",
    "a = 3 == 4\n",
    "print(a)\n",
    "\n",
    "# 不等于 !=\n",
    "b = 3 != 4\n",
    "print(b)\n",
    "\n",
    "#>,>=,<,<=\n",
    "print(3 > 8)\n",
    "print(\"bigc\"<\"b\")"
   ]
  },
  {
   "cell_type": "markdown",
   "metadata": {},
   "source": [
    "# 赋值运算符\n",
    "- 把一个值放到一个变量里去"
   ]
  },
  {
   "cell_type": "code",
   "execution_count": 17,
   "metadata": {},
   "outputs": [
    {
     "name": "stdout",
     "output_type": "stream",
     "text": [
      "3\n"
     ]
    }
   ],
   "source": [
    "# 赋值符号 = (优先级最低)\n",
    "a = 9\n",
    "a = b = 9\n",
    "a,b = 1,2\n",
    "# 赋值的缩写\n",
    "cc = 0\n",
    "cc += 3\n",
    "print(cc)\n",
    "# -=,*=,/=,//=,都是缩写形式\n",
    "#Python里面没有++,--"
   ]
  },
  {
   "cell_type": "markdown",
   "metadata": {},
   "source": [
    "# 逻辑运算符\n",
    "- 对布尔类型变量或者值进行运算的符号\n",
    "- and：逻辑与\n",
    "- or ：逻辑或\n",
    "- not：逻辑非\n",
    "- Python里面的逻辑运算没有异或\n",
    "- 运算规则：\n",
    "    - and看做乘法，or看做加法\n",
    "    - True看做1，False看做0\n",
    "    - 则逻辑运算就能转换成整数数学运算\n",
    "    - 最后结果如果是0则为False，否则为True\n",
    "- 逻辑运算的短路问题\n",
    "    - 逻辑运算式，按照运算顺序计算，一旦能够确定整个式子未来的值，则不再进行计算，直接返回"
   ]
  },
  {
   "cell_type": "code",
   "execution_count": 18,
   "metadata": {},
   "outputs": [
    {
     "name": "stdout",
     "output_type": "stream",
     "text": [
      "True\n",
      "False\n"
     ]
    }
   ],
   "source": [
    "a = True\n",
    "b = True\n",
    "c = False\n",
    "\n",
    "aa = a and b\n",
    "print(aa)\n",
    "\n",
    "bb = a and c\n",
    "print(bb)\n",
    "# 数字转换成布尔值时：0 = False，其余都是True"
   ]
  },
  {
   "cell_type": "code",
   "execution_count": 19,
   "metadata": {},
   "outputs": [
    {
     "name": "stdout",
     "output_type": "stream",
     "text": [
      "True\n"
     ]
    }
   ],
   "source": [
    "# 短路问题\n",
    "a = True\n",
    "b = True\n",
    "c = False\n",
    "\n",
    "aa = a or b and (a and b) #转换成算数 1+...恒大与1，恒为True\n",
    "print(aa)"
   ]
  },
  {
   "cell_type": "code",
   "execution_count": 28,
   "metadata": {},
   "outputs": [
    {
     "name": "stdout",
     "output_type": "stream",
     "text": [
      "a\n",
      "b\n",
      "True\n",
      "********************\n",
      "a\n",
      "True\n"
     ]
    }
   ],
   "source": [
    "# 短路可能导致有的函数不会运行\n",
    "def a():\n",
    "    print(\"a\")\n",
    "    return True\n",
    "def b():\n",
    "    print(\"b\")\n",
    "    return True\n",
    "A = a() and b()\n",
    "print(A)\n",
    "    \n",
    "print(\"*\" * 20)\n",
    "\n",
    "B = a() or b()  # 发生短路 不运行b()\n",
    "print(B)"
   ]
  },
  {
   "cell_type": "markdown",
   "metadata": {},
   "source": [
    "# 成员运算符\n",
    "- 用来检测一个值或者变量是否在某个集合里面\n",
    "- in：成员运算符\n",
    "- not in：不在里面的意思"
   ]
  },
  {
   "cell_type": "code",
   "execution_count": 31,
   "metadata": {},
   "outputs": [
    {
     "name": "stdout",
     "output_type": "stream",
     "text": [
      "False\n",
      "True\n"
     ]
    }
   ],
   "source": [
    "# in案例\n",
    "L = [1,2,3,4,5]\n",
    "a = 6\n",
    "AA = a in L\n",
    "print(AA)\n",
    "\n",
    "AA = a not in L\n",
    "print(AA)"
   ]
  },
  {
   "cell_type": "markdown",
   "metadata": {},
   "source": [
    "# 身份运算符\n",
    "- 用来确定两个变量是否是同一变量\n",
    "- is：变量运算符\n",
    "- is not：不是"
   ]
  },
  {
   "cell_type": "code",
   "execution_count": 36,
   "metadata": {},
   "outputs": [
    {
     "name": "stdout",
     "output_type": "stream",
     "text": [
      "False\n",
      "False\n",
      "True\n"
     ]
    }
   ],
   "source": [
    "#身份运算符\n",
    "a = 1\n",
    "b = 1000\n",
    "\n",
    "AAA = a is b\n",
    "print(AAA)\n",
    "\n",
    "a = 20000\n",
    "b = 20000\n",
    "AA = a is b\n",
    "print(AA)  #只有数值一样，地址不同，结果为False\n",
    "\n",
    "a = 2\n",
    "b = 2\n",
    "AA = a is b\n",
    "print(AA)  #Python把小点的数(-5~256)存在一起了，指向同一个内存空间"
   ]
  },
  {
   "cell_type": "markdown",
   "metadata": {},
   "source": [
    "# 运算符优先级\n",
    "- 小括号具有最高优先级(由内到外，由左到右)\n",
    "    - **指数(最高优先级)\n",
    "    - +-按位翻转，一元加减号(最后两个方法名为+@和-@)\n",
    "    - 乘 除 取模和取余 * / % //\n",
    "    - 加减法 + -\n",
    "    - << 左移   >> 右移 \n",
    "    - & 位运算'AND'\n",
    "    - ^ | 位运算\n",
    "    - <= < > >= 比较运算\n",
    "    - == ！= 等于运算符\n",
    "    - = %= /= //= -= += *= **= 赋值运算符\n",
    "    - is  is not  身份运算符\n",
    "    - in  not in  成员运算符\n",
    "    - not or  and  逻辑运算符\n",
    "    \n",
    "    "
   ]
  }
 ],
 "metadata": {
  "kernelspec": {
   "display_name": "Python 3",
   "language": "python",
   "name": "python3"
  },
  "language_info": {
   "codemirror_mode": {
    "name": "ipython",
    "version": 3
   },
   "file_extension": ".py",
   "mimetype": "text/x-python",
   "name": "python",
   "nbconvert_exporter": "python",
   "pygments_lexer": "ipython3",
   "version": "3.7.0"
  }
 },
 "nbformat": 4,
 "nbformat_minor": 2
}
