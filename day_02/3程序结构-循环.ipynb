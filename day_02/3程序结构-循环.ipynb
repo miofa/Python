{
 "cells": [
  {
   "cell_type": "markdown",
   "metadata": {},
   "source": [
    "# 循环语句\n",
    "- 重复执行某一个固定的动作或任务\n",
    "- 分类\n",
    "    - for\n",
    "    - while\n",
    "## for循环\n",
    "- 语法\n",
    "        for 变量 in 序列:\n",
    "            语句1\n",
    "            语句2\n",
    "            ..."
   ]
  },
  {
   "cell_type": "code",
   "execution_count": 3,
   "metadata": {},
   "outputs": [
    {
     "name": "stdout",
     "output_type": "stream",
     "text": [
      "1\n",
      "11\n",
      "101\n",
      "2\n",
      "12\n",
      "102\n",
      "3\n",
      "13\n",
      "103\n",
      "4\n",
      "14\n",
      "104\n",
      "5\n",
      "15\n",
      "105\n",
      "6\n",
      "16\n",
      "106\n",
      "7\n",
      "17\n",
      "107\n"
     ]
    }
   ],
   "source": [
    "# 比如[1,2,3,4,5,6,7]\n",
    "list_one = [1,2,3,4,5,6,7]\n",
    "for num in list_one:\n",
    "    print(num)\n",
    "    print(num + 10)\n",
    "    print(num + 100)"
   ]
  },
  {
   "cell_type": "code",
   "execution_count": 4,
   "metadata": {},
   "outputs": [
    {
     "name": "stdout",
     "output_type": "stream",
     "text": [
      "对不起，我不认识你\n",
      "对不起，我不认识你\n",
      "跟我回家吧\n"
     ]
    }
   ],
   "source": [
    "list_stu = ['张三','李四','白富美']\n",
    "for stu in list_stu:\n",
    "    if stu ==\"白富美\":\n",
    "        print(\"跟我回家吧\")\n",
    "    else:\n",
    "        print(\"对不起，我不认识你\")"
   ]
  },
  {
   "cell_type": "markdown",
   "metadata": {},
   "source": [
    "# for-else语句\n",
    "- for循环结束时，有时候需要执行一些收尾工作，此时需要使用else语句\n",
    "- else语句是可选的"
   ]
  },
  {
   "cell_type": "code",
   "execution_count": 5,
   "metadata": {},
   "outputs": [
    {
     "name": "stdout",
     "output_type": "stream",
     "text": [
      "对不起，我不认识你\n",
      "对不起，我不认识你\n",
      "你去哪了\n",
      "不会再爱了\n"
     ]
    }
   ],
   "source": [
    "# for-else语句\n",
    "# 打印列表中的同学\n",
    "# 如果没有在列表中，或者列表结束了，我们需要打印提示语句，表示不再爱了\n",
    "\n",
    "list_stu = ['张三','李四','白富美']\n",
    "for stu in list_stu:\n",
    "    if stu ==\"白富美\":\n",
    "        print(\"你去哪了\")\n",
    "    else:\n",
    "        print(\"对不起，我不认识你\")\n",
    "\n",
    "else:\n",
    "    print(\"不会再爱了\")"
   ]
  },
  {
   "cell_type": "markdown",
   "metadata": {},
   "source": [
    "# break, continue, pass \n",
    "- break: 无条件结束整个循环，简称 循环猝死\n",
    "- continue: 继续\n",
    "- pass： 只是占位符,代表这句话啥也不干，没有跳过功能"
   ]
  },
  {
   "cell_type": "code",
   "execution_count": 6,
   "metadata": {},
   "outputs": [
    {
     "name": "stdout",
     "output_type": "stream",
     "text": [
      "2\n",
      "4\n",
      "6\n",
      "哈哈哈，找到了\n"
     ]
    }
   ],
   "source": [
    "# 确定一个数字队列中是否包含数字7\n",
    "# 确定是否包含，只要找到一个即可确定，不需要再继续找下去，所以用break\n",
    "\n",
    "dig_list = [2,4,6,7,34,26,67]\n",
    "\n",
    "for dig in dig_list:\n",
    "    if dig == 7:\n",
    "        print(\"哈哈哈，找到了\")\n",
    "        break\n",
    "    else:\n",
    "        print(dig)"
   ]
  },
  {
   "cell_type": "code",
   "execution_count": 10,
   "metadata": {
    "collapsed": true
   },
   "outputs": [
    {
     "name": "stdout",
     "output_type": "stream",
     "text": [
      "2\n",
      "哈哈，你是双数\n",
      "4\n",
      "哈哈，你是双数\n",
      "6\n",
      "哈哈，你是双数\n",
      "8\n",
      "哈哈，你是双数\n",
      "10\n",
      "哈哈，你是双数\n"
     ]
    }
   ],
   "source": [
    "# continue语句\n",
    "# 在数字1-10中，寻找所有偶数，找到偶数后打印偶数\n",
    "\"\"\"\n",
    "continue案例一\n",
    "dig_list = [1,2,3,4,5,6,7,8,9,10]\n",
    "for dig in dig_list:\n",
    "    if dig % 2 == 0:\n",
    "        print(dig)\n",
    "        print(\"哈哈，你是双数\")\n",
    "    else:\n",
    "        continue\n",
    "\n",
    "\"\"\"\n",
    "dig_list = [1,2,3,4,5,6,7,8,9,10]\n",
    "for dig in dig_list:\n",
    "    if dig % 2 == 1:\n",
    "        continue  #立即结束本轮循环进入下一次循环，后面就不管了\n",
    "        \n",
    "    print(dig)\n",
    "    print(\"哈哈，你是双数\")\n",
    "    "
   ]
  },
  {
   "cell_type": "code",
   "execution_count": 15,
   "metadata": {},
   "outputs": [
    {
     "name": "stdout",
     "output_type": "stream",
     "text": [
      "你还小\n"
     ]
    }
   ],
   "source": [
    "# pass案例1\n",
    "\n",
    "age = 19\n",
    "if age > 19:\n",
    "    pass  #没有pass会报错  \n",
    "else:\n",
    "    print(\"你还小\")"
   ]
  },
  {
   "cell_type": "code",
   "execution_count": 16,
   "metadata": {},
   "outputs": [
    {
     "name": "stdout",
     "output_type": "stream",
     "text": [
      "2\n",
      "34\n",
      "56\n",
      "3\n"
     ]
    }
   ],
   "source": [
    "# pass案例2\n",
    "\n",
    "ages = [2,34,56,3]\n",
    "for age in ages:\n",
    "    pass\n",
    "    print(age)"
   ]
  },
  {
   "cell_type": "markdown",
   "metadata": {},
   "source": [
    "# range函数\n",
    "- 生成有序数列\n",
    "- 生成数字队列可以定制"
   ]
  },
  {
   "cell_type": "code",
   "execution_count": 18,
   "metadata": {
    "collapsed": true
   },
   "outputs": [
    {
     "name": "stdout",
     "output_type": "stream",
     "text": [
      "1\n",
      "2\n",
      "3\n",
      "4\n",
      "5\n",
      "6\n",
      "7\n",
      "8\n",
      "9\n",
      "10\n",
      "11\n",
      "12\n",
      "13\n",
      "14\n",
      "15\n",
      "16\n",
      "17\n",
      "18\n",
      "19\n",
      "20\n",
      "21\n",
      "22\n",
      "23\n",
      "24\n",
      "25\n",
      "26\n",
      "27\n",
      "28\n",
      "29\n",
      "30\n",
      "31\n",
      "32\n",
      "33\n",
      "34\n",
      "35\n",
      "36\n",
      "37\n",
      "38\n",
      "39\n",
      "40\n",
      "41\n",
      "42\n",
      "43\n",
      "44\n",
      "45\n",
      "46\n",
      "47\n",
      "48\n",
      "49\n",
      "50\n",
      "51\n",
      "52\n",
      "53\n",
      "54\n",
      "55\n",
      "56\n",
      "57\n",
      "58\n",
      "59\n",
      "60\n",
      "61\n",
      "62\n",
      "63\n",
      "64\n",
      "65\n",
      "66\n",
      "67\n",
      "68\n",
      "69\n",
      "70\n",
      "71\n",
      "72\n",
      "73\n",
      "74\n",
      "75\n",
      "76\n",
      "77\n",
      "78\n",
      "79\n",
      "80\n",
      "81\n",
      "82\n",
      "83\n",
      "84\n",
      "85\n",
      "86\n",
      "87\n",
      "88\n",
      "89\n",
      "90\n",
      "91\n",
      "92\n",
      "93\n",
      "94\n",
      "95\n",
      "96\n",
      "97\n",
      "98\n",
      "99\n",
      "100\n"
     ]
    }
   ],
   "source": [
    "# range案例1\n",
    "# 生成一个从1到100的数字序列\n",
    "# range生成的序列的两个数字是左包括，右不包括\n",
    "dig_list = range(1,101)\n",
    "for dig in dig_list:\n",
    "    print(dig)\n",
    "\n",
    "# 一般在Python中，两个表示范围的数字都是左包括，右不包括，randint函数是个特例\n",
    "# range函数在Python2.x和Python3.x中有严重区别"
   ]
  },
  {
   "cell_type": "code",
   "execution_count": 19,
   "metadata": {},
   "outputs": [
    {
     "name": "stdout",
     "output_type": "stream",
     "text": [
      "1\n",
      "2\n",
      "3\n",
      "4\n",
      "5\n",
      "6\n",
      "7\n",
      "8\n",
      "9\n"
     ]
    }
   ],
   "source": [
    "# range案例3\n",
    "# 打印从1到9的数字\n",
    "for i in range(1,10):\n",
    "    print(i)"
   ]
  },
  {
   "cell_type": "markdown",
   "metadata": {},
   "source": [
    "# while循环\n",
    "- 一个循环语句\n",
    "- 表示当条件成立的时候，就开始循环，适用于不知道具体循环次数，但能确定某个条件成立的情况下就循环\n",
    "- while语法：\n",
    "        while 条件表达式:\n",
    "            语句块\n",
    "            \n",
    "        #另一种表达方法\n",
    "        while 条件表达式:\n",
    "            语句块1\n",
    "        else:\n",
    "            语句块"
   ]
  },
  {
   "cell_type": "code",
   "execution_count": 23,
   "metadata": {},
   "outputs": [
    {
     "name": "stdout",
     "output_type": "stream",
     "text": [
      "11\n",
      "11\n"
     ]
    }
   ],
   "source": [
    "# 如果说年利率是6.7%，本利是每年翻滚，则多少年后本钱会翻倍\n",
    "\n",
    "capital = 10000\n",
    "year = 0  #存放需要翻本的年数\n",
    "\n",
    "while capital < 20000:\n",
    "    capital = capital * (1 + 0.067)\n",
    "    year += 1\n",
    "    \n",
    "print(year)\n",
    "\n",
    "# 案例2\n",
    "# 本案例中循环体没有执行，why？如何改正\n",
    "# 因为capital在上一例运行结束已经大于20000了\n",
    "while capital < 20000:\n",
    "    capital = capital * (1 + 0.067)\n",
    "    year += 1\n",
    "else:    \n",
    "    print(year)"
   ]
  },
  {
   "cell_type": "markdown",
   "metadata": {},
   "source": []
  }
 ],
 "metadata": {
  "kernelspec": {
   "display_name": "Python 3",
   "language": "python",
   "name": "python3"
  },
  "language_info": {
   "codemirror_mode": {
    "name": "ipython",
    "version": 3
   },
   "file_extension": ".py",
   "mimetype": "text/x-python",
   "name": "python",
   "nbconvert_exporter": "python",
   "pygments_lexer": "ipython3",
   "version": "3.7.0"
  }
 },
 "nbformat": 4,
 "nbformat_minor": 2
}
