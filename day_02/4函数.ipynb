{
 "cells": [
  {
   "cell_type": "markdown",
   "metadata": {},
   "source": [
    "# 函数\n",
    "- 函数是代码的一种组织形式\n",
    "- 函数应该能完成一项特定的工作，而且一般一个函数只完成一项工作\n",
    "- 分函数和过程，有返回结果的叫函数，无返回结果的叫过程。Python中不加以区分\n",
    "- 函数的使用\n",
    "    - 需要先定义\n",
    "    - 调用函数"
   ]
  },
  {
   "cell_type": "code",
   "execution_count": 3,
   "metadata": {},
   "outputs": [
    {
     "name": "stdout",
     "output_type": "stream",
     "text": [
      "函数结束了\n"
     ]
    }
   ],
   "source": [
    "# 定义一个函数\n",
    "# 只是定义的话不会执行\n",
    "# 1.def关键字，后跟一个空格\n",
    "# 2.函数名，自己定义，起名需要遵循变量命名规则，约定俗成，驼峰命名只给类用\n",
    "# 3.后面括号和冒号不能省略，括号内可以有参数\n",
    "# 4.函数内所有代码缩进\n",
    "\n",
    "def func():\n",
    "    print(\"我是一个函数\")\n",
    "    print(\"爱生活，爱游戏\")\n",
    "    \n",
    "print(\"函数结束了\")"
   ]
  },
  {
   "cell_type": "code",
   "execution_count": 5,
   "metadata": {},
   "outputs": [
    {
     "name": "stdout",
     "output_type": "stream",
     "text": [
      "我是一个函数\n",
      "爱生活，爱游戏\n"
     ]
    }
   ],
   "source": [
    "# 函数的调用\n",
    "# 直接写出函数名字，后面小括号不能省略，括号内的内容根据情况\n",
    "\n",
    "func()"
   ]
  },
  {
   "cell_type": "markdown",
   "metadata": {},
   "source": [
    "# 函数的参数和返回值\n",
    "- 参数: 负责给函数传递一些必要的数据或者信息\n",
    "    - 形参(形式参数): 在函数定义的时候用到的参数，没有具体值，只是一个占位符号\n",
    "    - 实参(实际参数): 在调用函数的时候输入的值\n",
    "- 返回值: 调用函数的时候的一个执行结果\n",
    "    - 使用return返回结果\n",
    "    - 如果没有值需要返回，我们推荐使用return None表示函数结束\n",
    "    - 函数一旦执行return，则函数立即结束\n",
    "    - 如果函数没有return关键字，则函数默认返回None"
   ]
  },
  {
   "cell_type": "code",
   "execution_count": 9,
   "metadata": {},
   "outputs": [
    {
     "name": "stdout",
     "output_type": "stream",
     "text": [
      "小明,你好吗？\n",
      "小明,你看见我家白富美了吗？\n"
     ]
    }
   ],
   "source": [
    "# 形参和实参的案例\n",
    "# 参数person只是一个符号\n",
    "# 调用的时候用另一个\n",
    "def hello(person):\n",
    "    print(\"{0},你好吗？\".format(person))\n",
    "    print(\"{},你看见我家白富美了吗？\".format(person))\n",
    "    return None\n",
    "p = \"小明\" \n",
    "# 调用函数，需要把p作为实参传入\n",
    "hello(p)\n",
    "    "
   ]
  },
  {
   "cell_type": "code",
   "execution_count": 7,
   "metadata": {},
   "outputs": [
    {
     "name": "stdout",
     "output_type": "stream",
     "text": [
      "小五,你好吗？\n",
      "小五,你看见我家白富美了吗？\n"
     ]
    }
   ],
   "source": [
    "p = \"小五\"\n",
    "hello(p)"
   ]
  },
  {
   "cell_type": "code",
   "execution_count": 8,
   "metadata": {},
   "outputs": [
    {
     "name": "stdout",
     "output_type": "stream",
     "text": [
      "C哥,你好吗？\n",
      "C哥,你看见我家白富美了吗？\n",
      "None\n"
     ]
    }
   ],
   "source": [
    "pp = hello(\"C哥\")\n",
    "print(pp)  #查看函数的返回值"
   ]
  },
  {
   "cell_type": "code",
   "execution_count": 10,
   "metadata": {},
   "outputs": [
    {
     "name": "stdout",
     "output_type": "stream",
     "text": [
      "Help on built-in function print in module builtins:\n",
      "\n",
      "print(...)\n",
      "    print(value, ..., sep=' ', end='\\n', file=sys.stdout, flush=False)\n",
      "    \n",
      "    Prints the values to a stream, or to sys.stdout by default.\n",
      "    Optional keyword arguments:\n",
      "    file:  a file-like object (stream); defaults to the current sys.stdout.\n",
      "    sep:   string inserted between values, default a space.\n",
      "    end:   string appended after the last value, default a newline.\n",
      "    flush: whether to forcibly flush the stream.\n",
      "\n"
     ]
    }
   ],
   "source": [
    "# help函数负责随时提供帮助  help(print())相当于help(None)\n",
    "help(print)"
   ]
  },
  {
   "cell_type": "code",
   "execution_count": 6,
   "metadata": {},
   "outputs": [
    {
     "name": "stdout",
     "output_type": "stream",
     "text": [
      "1  \n",
      "2  4  \n",
      "3  6  9  \n",
      "4  8  12  16  \n",
      "5  10  15  20  25  \n",
      "6  12  18  24  30  36  \n",
      "7  14  21  28  35  42  49  \n",
      "8  16  24  32  40  48  56  64  \n",
      "9  18  27  36  45  54  63  72  81  \n"
     ]
    }
   ],
   "source": [
    "# 九九乘法表\n",
    "# version 1.0\n",
    "for i in range(1,10):    #控制外循环，从1 到 9\n",
    "    for j in range(1,i + 1):    #内循环，每次从第一个数字开始，打印到跟行数相同的数量\n",
    "        print(i * j,end = \"  \")\n",
    "    print()\n",
    "    "
   ]
  },
  {
   "cell_type": "code",
   "execution_count": 20,
   "metadata": {},
   "outputs": [
    {
     "name": "stdout",
     "output_type": "stream",
     "text": [
      "1 \n",
      "2 4 \n",
      "3 6 9 \n",
      "4 8 12 16 \n",
      "5 10 15 20 25 \n",
      "6 12 18 24 30 36 \n",
      "7 14 21 28 35 42 49 \n",
      "8 16 24 32 40 48 56 64 \n",
      "9 18 27 36 45 54 63 72 81 \n",
      "1 \n",
      "2 4 \n",
      "3 6 9 \n",
      "4 8 12 16 \n",
      "5 10 15 20 25 \n",
      "6 12 18 24 30 36 \n",
      "7 14 21 28 35 42 49 \n",
      "8 16 24 32 40 48 56 64 \n",
      "9 18 27 36 45 54 63 72 81 \n"
     ]
    }
   ],
   "source": [
    "# 尝试用函数来打印九九乘法表\n",
    "\n",
    "def jiujiu():\n",
    "    for i in range(1,10):    #控制外循环，从1 到 9\n",
    "        for j in range(1,i + 1):    #内循环，每次从第一个数字开始，打印到跟行数相同的数量\n",
    "            print(i * j,end=\" \")\n",
    "        print()\n",
    "    return None\n",
    "\n",
    "jiujiu()\n",
    "jiujiu()"
   ]
  },
  {
   "cell_type": "code",
   "execution_count": 38,
   "metadata": {
    "collapsed": true
   },
   "outputs": [
    {
     "name": "stdout",
     "output_type": "stream",
     "text": [
      "1 \n",
      "2 4 \n",
      "3 6 9 \n",
      "4 8 12 16 \n",
      "5 10 15 20 25 \n",
      "6 12 18 24 30 36 \n",
      "7 14 21 28 35 42 49 \n",
      "8 16 24 32 40 48 56 64 \n",
      "9 18 27 36 45 54 63 72 81 \n"
     ]
    }
   ],
   "source": [
    "#改造上面的函数\n",
    "\n",
    "def printLine(line_num): \n",
    "    \"\"\"\n",
    "    line_num: 代表行号\n",
    "    打印一行九九乘法表\n",
    "    \"\"\"\n",
    "    for j in range(1,line_num + 1):\n",
    "        print(line_num * j,end=\" \")\n",
    "    print()    \n",
    "    return None\n",
    "    \n",
    "def jiujiu():\n",
    "    for i in range(1,10):\n",
    "        printLine(i)\n",
    "    return None\n",
    "\n",
    "jiujiu()"
   ]
  },
  {
   "cell_type": "markdown",
   "metadata": {},
   "source": [
    "# 参数详解\n",
    "- 参数分类\n",
    "    - 普通参数/位置参数\n",
    "    - 默认参数\n",
    "    - 关键字参数\n",
    "    - 收集参数"
   ]
  },
  {
   "cell_type": "code",
   "execution_count": 41,
   "metadata": {},
   "outputs": [
    {
     "name": "stdout",
     "output_type": "stream",
     "text": [
      "12\n"
     ]
    }
   ],
   "source": [
    "# 普通参数案例\n",
    "\n",
    "def normal_para(one, two, three):\n",
    "    print(one + two)\n",
    "    return None\n",
    "\n",
    "normal_para(10,2,3)"
   ]
  },
  {
   "cell_type": "code",
   "execution_count": 45,
   "metadata": {
    "collapsed": true
   },
   "outputs": [
    {
     "name": "stdout",
     "output_type": "stream",
     "text": [
      "6\n",
      "100\n",
      "17\n",
      "3\n"
     ]
    }
   ],
   "source": [
    "# 默认参数案例\n",
    "\n",
    "def default_para(one, two, three=100):\n",
    "    print(one + two)\n",
    "    print(three)\n",
    "    return None\n",
    "\n",
    "default_para(2, 4)\n",
    "default_para(12,5,3)"
   ]
  },
  {
   "cell_type": "code",
   "execution_count": 46,
   "metadata": {},
   "outputs": [
    {
     "name": "stdout",
     "output_type": "stream",
     "text": [
      "19\n",
      "25\n"
     ]
    }
   ],
   "source": [
    "# 关键字参数案例\n",
    "\n",
    "def keys_para(one, two, three):\n",
    "    print(one + two)\n",
    "    print(three)\n",
    "    return None\n",
    "\n",
    "keys_para(three=25,one=2,two=17)    #摆脱了位置的束缚，且清晰明了"
   ]
  },
  {
   "cell_type": "code",
   "execution_count": null,
   "metadata": {},
   "outputs": [],
   "source": []
  }
 ],
 "metadata": {
  "kernelspec": {
   "display_name": "Python 3",
   "language": "python",
   "name": "python3"
  },
  "language_info": {
   "codemirror_mode": {
    "name": "ipython",
    "version": 3
   },
   "file_extension": ".py",
   "mimetype": "text/x-python",
   "name": "python",
   "nbconvert_exporter": "python",
   "pygments_lexer": "ipython3",
   "version": "3.7.0"
  }
 },
 "nbformat": 4,
 "nbformat_minor": 2
}
