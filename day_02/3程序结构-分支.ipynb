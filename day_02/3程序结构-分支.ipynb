{
 "cells": [
  {
   "cell_type": "markdown",
   "metadata": {},
   "source": [
    "# 程序结构\n",
    "- 三种结构\n",
    "    - 顺序\n",
    "    - 循环\n",
    "    - 分支"
   ]
  },
  {
   "cell_type": "markdown",
   "metadata": {},
   "source": [
    "# 分支结构\n",
    "- 分支结构基本语法\n",
    "    - if 条件表达式:\n",
    "        - 语句1\n",
    "        - 语句2\n",
    "        - 语句3\n",
    "        - ......\n",
    "- 条件表达式就是计算结果必须为布尔值\n",
    "- 表达式后面的冒号不能少\n",
    "- 注意if后面的出现的语句，如果属于if语句块，则必须同一个缩进等级\n",
    "- 条件表达式结果为True执行if后面的缩进语句块"
   ]
  },
  {
   "cell_type": "code",
   "execution_count": 4,
   "metadata": {},
   "outputs": [
    {
     "name": "stdout",
     "output_type": "stream",
     "text": [
      "大C发财\n",
      "迎娶白富美\n",
      "日子还得过\n",
      "********************\n",
      "空字符串\n",
      "********************\n",
      "大C发财\n",
      "迎娶白富美\n",
      "包含空字符\n"
     ]
    }
   ],
   "source": [
    "# 字符串的真假\n",
    "# 只有空字符串为False，其余都为True\n",
    "a = \"学会Python\"\n",
    "if a:\n",
    "    print(\"大C发财\")\n",
    "    print(\"迎娶白富美\")\n",
    "print(\"日子还得过\")\n",
    "\n",
    "print(\"*\" * 20)\n",
    "\n",
    "a = \"\"\n",
    "if a:\n",
    "    print(\"大C发财\")\n",
    "    print(\"迎娶白富美\")\n",
    "print(\"空字符串\")\n",
    "\n",
    "print(\"*\" * 20)\n",
    "\n",
    "a = \"  \"\n",
    "if a:\n",
    "    print(\"大C发财\")\n",
    "    print(\"迎娶白富美\")\n",
    "print(\"包含空字符\")\n",
    "\n"
   ]
  },
  {
   "cell_type": "code",
   "execution_count": 5,
   "metadata": {},
   "outputs": [
    {
     "name": "stdout",
     "output_type": "stream",
     "text": [
      "drink wine\n",
      "You buy me next\n"
     ]
    }
   ],
   "source": [
    "age = 19\n",
    "if age > 16:\n",
    "    print(\"drink wine\")\n",
    "print(\"You buy me next\")"
   ]
  },
  {
   "cell_type": "markdown",
   "metadata": {},
   "source": [
    "# 双向分支\n",
    "- if...else...\n",
    "- 双向结构\n",
    "        if 条件表达式：\n",
    "            语句1\n",
    "            语句2\n",
    "            ...\n",
    "        else:\n",
    "            语句1\n",
    "            语句2\n",
    "            ..."
   ]
  },
  {
   "cell_type": "code",
   "execution_count": 7,
   "metadata": {},
   "outputs": [
    {
     "name": "stdout",
     "output_type": "stream",
     "text": [
      "继续吃土吧\n",
      "跟五指姑娘玩去吧\n",
      "日子还得过\n",
      "********************\n"
     ]
    }
   ],
   "source": [
    "a = \"\"\n",
    "if a:\n",
    "    print(\"大C发财\")\n",
    "    print(\"迎娶白富美\")\n",
    "else:\n",
    "    print(\"继续吃土吧\")\n",
    "    print(\"跟五指姑娘玩去吧\")\n",
    "print(\"日子还得过\")\n",
    "\n",
    "print(\"*\" * 20)"
   ]
  },
  {
   "cell_type": "code",
   "execution_count": null,
   "metadata": {},
   "outputs": [],
   "source": [
    "# input 等待键盘输入\n",
    "gender = input(\"性别\")\n",
    "if gender == \"man\":\n",
    "    print(\"抽烟喝酒烫头\")\n",
    "    print(\"一起嗨皮\")\n",
    "else:\n",
    "    print(\"你是个什么鬼\")\n",
    "    print(\"自个玩去吧\")\n",
    "\n"
   ]
  },
  {
   "cell_type": "code",
   "execution_count": 4,
   "metadata": {
    "scrolled": false
   },
   "outputs": [
    {
     "name": "stdout",
     "output_type": "stream",
     "text": [
      "成绩69\n",
      "平\n"
     ]
    }
   ],
   "source": [
    "#input输入的值全部是字符串型的\n",
    "\n",
    "achievement = input(\"成绩\")\n",
    "achievement = int(achievement)\n",
    "if achievement >= 90:\n",
    "    print(\"优秀\")\n",
    "if 80 <= achievement < 90: \n",
    "    print(\"良\")\n",
    "if 70 <= achievement < 80: \n",
    "    print(\"中\")\n",
    "if 60 <= achievement < 70: \n",
    "    print(\"平\")\n",
    "if achievement < 60: \n",
    "    print(\"我没你这学生\")\n"
   ]
  },
  {
   "cell_type": "markdown",
   "metadata": {},
   "source": [
    "# 多路分支\n",
    "- 很多分支的情况，叫多路分支\n",
    "        if 条件表达式:\n",
    "            语句1\n",
    "            ...\n",
    "        elif 条件表达式:\n",
    "            语句1\n",
    "            ...\n",
    "        elif 条件表达式:\n",
    "            语句1\n",
    "            ...\n",
    "        elif 条件表达式:\n",
    "            语句1\n",
    "            ...\n",
    "        else:\n",
    "            语句1\n",
    "            ...\n",
    "- elif可以有好多个，根据实际情况\n",
    "- else可选\n",
    "- 多路分支最多只会执行一种情况"
   ]
  },
  {
   "cell_type": "code",
   "execution_count": 6,
   "metadata": {},
   "outputs": [
    {
     "name": "stdout",
     "output_type": "stream",
     "text": [
      "成绩68\n",
      "D\n"
     ]
    }
   ],
   "source": [
    "achievement = input(\"成绩\")\n",
    "achievement = int(achievement)\n",
    "if achievement >= 90:\n",
    "    print(\"A\")\n",
    "elif achievement >= 80: \n",
    "    print(\"B\")\n",
    "elif achievement >= 70: \n",
    "    print(\"C\")\n",
    "elif achievement >= 60: \n",
    "    print(\"D\")\n",
    "else:\n",
    "    print(\"我没你这学生\")\n"
   ]
  },
  {
   "cell_type": "markdown",
   "metadata": {},
   "source": [
    "# if语句补充\n",
    "- if语句可以嵌套使用，不推荐\n",
    "- Python没有switch语句"
   ]
  }
 ],
 "metadata": {
  "kernelspec": {
   "display_name": "Python 3",
   "language": "python",
   "name": "python3"
  }
 },
 "nbformat": 4,
 "nbformat_minor": 2
}
