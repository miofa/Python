{
 "cells": [
  {
   "cell_type": "markdown",
   "metadata": {},
   "source": [
    "# str内置函数\n",
    "### 查找类\n",
    "- 字符串查找类: find,index\n",
    "- find: 查找字符串中是否包含一个子串\n",
    "- index: 跟find的唯一区别是index如果查找不到会引发异常\n",
    "- lfind，rfind: 从左查找和从右查找\n"
   ]
  },
  {
   "cell_type": "code",
   "execution_count": 2,
   "metadata": {},
   "outputs": [
    {
     "data": {
      "text/plain": [
       "-1"
      ]
     },
     "execution_count": 2,
     "metadata": {},
     "output_type": "execute_result"
    }
   ],
   "source": [
    "s = \"Bigc love Bai fumei and Li fumei\"\n",
    "s1 = \"fumei\"\n",
    "# 返回第一次发现这个字符串的位置\n",
    "s.find(s1)\n",
    "# 返回-1表示没有找到\n",
    "s2 = \"dada\"\n",
    "s.find(s2)"
   ]
  },
  {
   "cell_type": "code",
   "execution_count": 4,
   "metadata": {},
   "outputs": [
    {
     "ename": "ValueError",
     "evalue": "substring not found",
     "output_type": "error",
     "traceback": [
      "\u001b[0;31m---------------------------------------------------------------------------\u001b[0m",
      "\u001b[0;31mValueError\u001b[0m                                Traceback (most recent call last)",
      "\u001b[0;32m<ipython-input-4-c3f973bfbe78>\u001b[0m in \u001b[0;36m<module>\u001b[0;34m()\u001b[0m\n\u001b[1;32m      1\u001b[0m \u001b[0ms\u001b[0m\u001b[0;34m.\u001b[0m\u001b[0mindex\u001b[0m\u001b[0;34m(\u001b[0m\u001b[0ms1\u001b[0m\u001b[0;34m)\u001b[0m\u001b[0;34m\u001b[0m\u001b[0m\n\u001b[0;32m----> 2\u001b[0;31m \u001b[0ms\u001b[0m\u001b[0;34m.\u001b[0m\u001b[0mindex\u001b[0m\u001b[0;34m(\u001b[0m\u001b[0ms2\u001b[0m\u001b[0;34m)\u001b[0m\u001b[0;34m\u001b[0m\u001b[0m\n\u001b[0m",
      "\u001b[0;31mValueError\u001b[0m: substring not found"
     ]
    }
   ],
   "source": [
    "s.index(s1)\n",
    "s.index(s2)#index找不到会报错"
   ]
  },
  {
   "cell_type": "raw",
   "metadata": {},
   "source": [
    "# 使用的时候还可以使用区间\n",
    "s = \"Bigc love Bai fumei and Li fumei\"\n",
    "s1 = \"fumei\"\n",
    "\n",
    "# 从下标20开始查找，看能否找到\n",
    "s.find(s1,20)"
   ]
  },
  {
   "cell_type": "markdown",
   "metadata": {},
   "source": [
    "### 判断类函数\n",
    "- 此类函数的特点是一般都用is开头，比如islower\n",
    "- isalpha: 判断字符串是不是字母，需要注意两点\n",
    "    - 此函数默认的前提是字符串至少包含一个字符，如果没有，同样返回False\n",
    "    - 汉字被认为是alpha，所以，此函数不能作为区分英语字母还是汉字的标识，区分中英文请使用unicode码。注意使用区别\n",
    "- isdigit, isnumeric, isdecimal三个判断数字的函数\n",
    "    - 此类函数不建议使用，在后期爬虫中，使用正则表达式判断是否是数字\n",
    "    - isdigit(): True: Unicode数字, byte数字(单字节), 全角数字(双字节), 罗马数字\n",
    "             False: 汉字数字\n",
    "             Error: 无\n",
    "      isdecimal(): True: Unicode数字, 全角数字(双字节)\n",
    "                   False: 罗马数字 汉字数字\n",
    "                   Error: byte数字(单字节)\n",
    "      isnumeric(): True: Unicode数字, 全角数字(双字节) 罗马数字 汉字数字\n",
    "                   False: 无\n",
    "                   Error: byte数字(单字节)  \n",
    "                   "
   ]
  },
  {
   "cell_type": "code",
   "execution_count": 10,
   "metadata": {},
   "outputs": [
    {
     "name": "stdout",
     "output_type": "stream",
     "text": [
      "False\n",
      "False\n",
      "False\n"
     ]
    }
   ],
   "source": [
    "s1 = \"我们,不一样\"\n",
    "s2 = \"wo men bu yi yang\"\n",
    "s3 = \"Xiao Bo Shi is 1.st\"\n",
    "# 以上三个都不是alpha，因为有除了字母或汉字以外的空格，标点符号等\n",
    "print(s1.isalpha())\n",
    "print(s2.isalpha())\n",
    "print(s3.isalpha())"
   ]
  },
  {
   "cell_type": "code",
   "execution_count": 11,
   "metadata": {},
   "outputs": [
    {
     "name": "stdout",
     "output_type": "stream",
     "text": [
      "False\n",
      "True\n",
      "False\n"
     ]
    }
   ],
   "source": [
    "chin_num = \"一二三\"\n",
    "print(chin_num.isdigit())\n",
    "print(chin_num.isnumeric())\n",
    "print(chin_num.isdecimal())"
   ]
  },
  {
   "cell_type": "markdown",
   "metadata": {},
   "source": [
    "### 内容判断类\n",
    "- startswith/endswith: 是否以xxx开头或结尾\n",
    "    - 检测某个字符串是否以某个子字符串开头，常用3个参数\n",
    "    - suffix: 被检查的字符串，必须有\n",
    "    - start: 检查范围的开始范围\n",
    "    - end: 检查范围的结束范围\n",
    "- islower/isupper: 判断是大写还是小写       "
   ]
  },
  {
   "cell_type": "code",
   "execution_count": 13,
   "metadata": {},
   "outputs": [
    {
     "name": "stdout",
     "output_type": "stream",
     "text": [
      "True\n",
      "True\n"
     ]
    }
   ],
   "source": [
    "C = \"Big C\"\n",
    "fumei = \"Bai fumei\"\n",
    "\n",
    "s = \"Big C really love Bai fumei\"\n",
    "print(s.startswith(C))\n",
    "print(s.endswith(fumei))"
   ]
  },
  {
   "cell_type": "code",
   "execution_count": 19,
   "metadata": {},
   "outputs": [
    {
     "name": "stdout",
     "output_type": "stream",
     "text": [
      "False\n",
      "False\n",
      "True\n",
      "True\n",
      "False\n",
      "False\n",
      "True\n"
     ]
    }
   ],
   "source": [
    "s1 = \"Bigc love baifumei\"\n",
    "s2 = \"bigc love baifumei\"\n",
    "s3 = \"bigclovebaifumei\"\n",
    "s4 = \"大西爱白富美\"\n",
    "s5 = \"大C爱白富美\"\n",
    "print(s1.islower())\n",
    "print(s1.isupper())\n",
    "print(s2.islower())\n",
    "print(s3.islower())\n",
    "print(s4.islower())\n",
    "print(s4.isupper())#汉字字符串无大小写概念\n",
    "print(s5.isupper())"
   ]
  },
  {
   "cell_type": "code",
   "execution_count": 26,
   "metadata": {},
   "outputs": [
    {
     "name": "stdout",
     "output_type": "stream",
     "text": [
      "=======Python import mode=======\n",
      "命令行参数为:\n",
      "/home/william/anaconda3/lib/python3.7/site-packages/ipykernel_launcher.py\n",
      "-f\n",
      "/run/user/1000/jupyter/kernel-b96ef389-2538-4e69-8147-08ba5ea258d8.json\n",
      "\n",
      " python 路径为 ['', '/home/william/Desktop/Python/Python/day_03', '/home/william/anaconda3/lib/python37.zip', '/home/william/anaconda3/lib/python3.7', '/home/william/anaconda3/lib/python3.7/lib-dynload', '/home/william/anaconda3/lib/python3.7/site-packages', '/home/william/anaconda3/lib/python3.7/site-packages/IPython/extensions', '/home/william/.ipython']\n"
     ]
    }
   ],
   "source": [
    "import sys\n",
    "print('=======Python import mode=======')\n",
    "print('命令行参数为:')\n",
    "for i in sys.argv:\n",
    "    print(i)\n",
    "print('\\n python 路径为',sys.path)"
   ]
  }
 ],
 "metadata": {
  "kernelspec": {
   "display_name": "Python 3",
   "language": "python",
   "name": "python3"
  },
  "language_info": {
   "codemirror_mode": {
    "name": "ipython",
    "version": 3
   },
   "file_extension": ".py",
   "mimetype": "text/x-python",
   "name": "python",
   "nbconvert_exporter": "python",
   "pygments_lexer": "ipython3",
   "version": "3.7.0"
  }
 },
 "nbformat": 4,
 "nbformat_minor": 2
}
